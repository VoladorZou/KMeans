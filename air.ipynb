{
 "nbformat": 4,
 "nbformat_minor": 2,
 "metadata": {
  "language_info": {
   "name": "python",
   "codemirror_mode": {
    "name": "ipython",
    "version": 3
   },
   "version": "3.8.2-final"
  },
  "orig_nbformat": 2,
  "file_extension": ".py",
  "mimetype": "text/x-python",
  "name": "python",
  "npconvert_exporter": "python",
  "pygments_lexer": "ipython3",
  "version": 3,
  "kernelspec": {
   "name": "python3",
   "display_name": "Python 3"
  }
 },
 "cells": [
  {
   "cell_type": "code",
   "execution_count": null,
   "metadata": {},
   "outputs": [],
   "source": [
    "import numpy as np\n",
    "import pandas as pd\n",
    "#读取数据集\n",
    "airCompany = pd.read_csv('./Q1data/air_data.csv', encoding='gb18030')\n",
    "#去除两年票价收入都为空的数据（这些数据可能是有误）\n",
    "price1 = airCompany['SUM_YR_1'].notnull()\n",
    "price2 = airCompany['SUM_YR_2'].notnull()\n",
    "priceEmpty = price1&price2\n",
    "airData = airCompany.loc[priceEmpty,:]\n",
    "#选取特征构建模型（数据中无关紧要的信息不少，如会员卡号、工作城市等这些不是我们这次分析的重点）\n",
    "#这里选取加入会员时间（需计算）、飞行总里程、平均飞行时间间隔、平均票价收入（没有给出，需要计算）\n",
    "airDataPro = airData[['FFP_DATE','LOAD_TIME','SUM_YR_1','SUM_YR_2','SEG_KM_SUM','AVG_INTERVAL']]\n",
    "#计算入会时间(单位：月)\n",
    "MemberAge = pd.to_datetime(airDataPro['LOAD_TIME']) - pd.to_datetime(airDataPro['FFP_DATE'])\n",
    "MemberAge = MemberAge.astype('str').str.split().str[0]\n",
    "MemberAge = MemberAge.astype('int')/30\n",
    "#计算平均票价收入\n",
    "AVG_SUM_YR = (airDataPro['SUM_YR_1'] + airDataPro['SUM_YR_2']) / 2\n",
    "#合并所选取的数据特征\n",
    "airDataMerge = pd.concat([MemberAge, AVG_SUM_YR, airDataPro.iloc[:,4:]], axis = 1)\n",
    "print('构建的数据分析模型特征的前5行为：\\n', airDataMerge.head())\n",
    "#对特征数据标准化\n",
    "from sklearn.preprocessing import StandardScaler\n",
    "airStandardData = StandardScaler().fit_transform(airDataMerge)\n",
    "np.savez('./Q1data/airStandardData.npz',airStandardData)\n",
    "print('标准化后的数据分析模型的4个特征为：\\n',airStandardData[:5,:])"
   ]
  },
  {
   "cell_type": "code",
   "execution_count": null,
   "metadata": {},
   "outputs": [],
   "source": [
    "from sklearn.cluster import KMeans\n",
    "import matplotlib.pyplot as plt\n",
    "#使用肘方法选取k值\n",
    "d=[]\n",
    "for i in range(1,11):    #k取值1~11，做kmeans聚类，看不同k值对应的簇内误差平方和\n",
    "    km=KMeans(n_clusters=i,init='k-means++',n_init=10,max_iter=300,random_state=0)\n",
    "    km.fit(airStandardData)\n",
    "    d.append(km.inertia_)  #inertia簇内误差平方和\n",
    "#肘处的K即为最佳K值,这里我选的是4\n",
    "plt.plot(range(1,11),d,marker='o')\n",
    "plt.xlabel('number of clusters')\n",
    "plt.ylabel('distortions')\n",
    "plt.show()"
   ]
  },
  {
   "cell_type": "code",
   "execution_count": null,
   "metadata": {},
   "outputs": [],
   "source": [
    "#使用聚类算法对航空客户进行分群\n",
    "from sklearn.cluster import KMeans\n",
    "airStandardData = np.load('./Q1data/airStandardData.npz')['arr_0']\n",
    "#聚类个数k自己选定，如果没有使用肘方法，这里可以多尝试几种情况，看看各分群的区分度明不明显，最后确定k的取值\n",
    "k=4\n",
    "kmeans = KMeans(n_clusters=k, random_state=200)\n",
    "fitKmeans = kmeans.fit(airStandardData)\n",
    "print(\"查看各客户群的聚类中心：\")\n",
    "kmeans.cluster_centers_"
   ]
  },
  {
   "cell_type": "code",
   "execution_count": null,
   "metadata": {},
   "outputs": [],
   "source": [
    "#统计各客户群的数目\n",
    "num = pd.Series(kmeans.labels_).value_counts()\n",
    "print('最终每个类别的数目：\\n',num)\n",
    "#根据分析结果可以看出：\n",
    "#第1类客户是那种比较晚加入会员，并且花费不多，乘机频率也相对较少。这属于一般客户\n",
    "#第2类客户是较早加入会员，飞行里程很大、飞行频率不高且花费意愿不错，是优质客户\n",
    "#第3类客户是很早加入会员，但现在乘机频率减少花费也有减少，建议回访搞清楚其中原因\n",
    "#第4类客户飞行频率最高，但花费不多，可以尝试明确其需求，针对提供更多收费服务"
   ]
  }
 ]
}