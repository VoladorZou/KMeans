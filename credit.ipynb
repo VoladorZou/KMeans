{
 "nbformat": 4,
 "nbformat_minor": 2,
 "metadata": {
  "language_info": {
   "name": "python",
   "codemirror_mode": {
    "name": "ipython",
    "version": 3
   },
   "version": "3.8.2-final"
  },
  "orig_nbformat": 2,
  "file_extension": ".py",
  "mimetype": "text/x-python",
  "name": "python",
  "npconvert_exporter": "python",
  "pygments_lexer": "ipython3",
  "version": 3,
  "kernelspec": {
   "name": "python3",
   "display_name": "Python 3"
  }
 },
 "cells": [
  {
   "cell_type": "code",
   "execution_count": null,
   "metadata": {},
   "outputs": [],
   "source": [
    "import numpy as np\n",
    "import pandas as pd\n",
    "#读取数据集\n",
    "credit = pd.read_csv('./Q1data/credit_card.csv', encoding='gb18030')\n",
    "print('原始数据的形状为：', credit.shape)\n",
    "#数据预处理\n",
    "#去除使用频率为5且月刷卡金额不为1的异常数据\n",
    "index1 = credit['频率'] == 5\n",
    "index2 = credit['月刷卡额'] != 1\n",
    "Index1 = index1 & index2\n",
    "credit1 = credit.loc[Index1 == False,:]\n",
    "print('删除第一种异常数据后，数据的形状为：', credit1.shape)\n",
    "#去除逾期、呆账、退票、强制停卡、拒往记录为1，但瑕疵户记录为2的数据\n",
    "indexSec1 = credit1['逾期'] == 1\n",
    "indexSec2 = credit1['呆账'] == 1\n",
    "indexSec3 = credit1['退票'] == 1\n",
    "indexSec4 = credit1['强制停卡记录'] == 1\n",
    "indexSec5 = credit1['拒往记录'] == 1\n",
    "indexSec6 = credit1['瑕疵户'] == 2\n",
    "Index2 = indexSec1 & indexSec2 & indexSec3 & indexSec4 & indexSec5 & indexSec6\n",
    "credit2 = credit1.loc[Index2 == False,:]\n",
    "print('删除第二种异常数据后，数据的形状为：', credit2.shape)\n",
    "#去除呆账（逾期且经过追讨无法收回）、强制停卡、退票都为1，但拒往记录为2的数据\n",
    "indexThird1 = credit2['拒往记录'] == 2\n",
    "Index3 = indexSec2 & indexSec4 & indexSec3 & indexThird1\n",
    "credit3 = credit2.loc[Index3 == False,:]\n",
    "print('删除第三种异常数据后，数据的形状为：', credit3.shape)"
   ]
  },
  {
   "cell_type": "code",
   "execution_count": null,
   "metadata": {},
   "outputs": [],
   "source": [
    "from sklearn.decomposition import PCA\n",
    "#将特征数据集合降维为1\n",
    "def getFeature(data):\n",
    "    pca = PCA(n_components = 1)\n",
    "    data = pca.fit_transform(data)\n",
    "    return data\n",
    "#根据特征：瑕疵户、逾期、呆账、强制停卡记录、退票、拒往记录，构建历史行为特征\n",
    "HistoryFeature = credit3[['瑕疵户', '逾期', '呆账', '强制停卡记录', '退票', '拒往记录']]\n",
    "H = getFeature(HistoryFeature)\n",
    "#根据借款余额、个人月收入、个人月开销、家庭月收入以及月刷卡额，构建出经济风险情况特征\n",
    "EconomyFeature = credit3[['借款余额', '个人月收入', '个人月开销', '家庭月收入', '月刷卡额']]\n",
    "E = getFeature(EconomyFeature)\n",
    "#根据特征职业、年龄、住家，构建出收入风险情况特征\n",
    "IncomeFeature = credit3[['职业', '年龄', '住家']]\n",
    "I = getFeature(IncomeFeature)\n",
    "#合并特征\n",
    "credit_selection = np.append(H,E, axis = 1)\n",
    "credit_selection = np.append(credit_selection,I, axis = 1)\n",
    "#标准化特征\n",
    "from sklearn.preprocessing import StandardScaler\n",
    "creditStandardData = StandardScaler().fit_transform(credit_selection)\n",
    "np.savez('./Q1data/creditStandardData.npz',creditStandardData)\n",
    "print('标准化后的数据分析模型的3个特征为：\\n',creditStandardData[:5,:])"
   ]
  },
  {
   "cell_type": "code",
   "execution_count": null,
   "metadata": {},
   "outputs": [],
   "source": [
    "from sklearn.cluster import KMeans\n",
    "import matplotlib.pyplot as plt\n",
    "#使用肘方法选取k值\n",
    "d=[]\n",
    "for i in range(1,11):    #k取值1~11，做kmeans聚类，看不同k值对应的簇内误差平方和\n",
    "    km=KMeans(n_clusters=i,init='k-means++',n_init=10,max_iter=300,random_state=0)\n",
    "    km.fit(creditStandardData)\n",
    "    d.append(km.inertia_)  #inertia簇内误差平方和\n",
    "#肘处的K即为最佳K值,这里我选的是5\n",
    "plt.plot(range(1,11),d,marker='o')\n",
    "plt.xlabel('number of clusters')\n",
    "plt.ylabel('distortions')\n",
    "plt.show()"
   ]
  },
  {
   "cell_type": "code",
   "execution_count": null,
   "metadata": {},
   "outputs": [],
   "source": [
    "#构建K-Means聚类模型\n",
    "from sklearn.cluster import KMeans\n",
    "k = 5#建议逐渐增加K值，观察分群结果，最终确定最优的K值方案。\n",
    "kmeans_model = KMeans(n_clusters=k, random_state=100)\n",
    "fit_kmeans = kmeans_model.fit(creditStandardData)#模型训练\n",
    "kmeans_model.cluster_centers_#查看各分群的聚类中心"
   ]
  },
  {
   "cell_type": "code",
   "execution_count": null,
   "metadata": {},
   "outputs": [],
   "source": [
    "#统计各分群的数目\n",
    "num = pd.Series(kmeans_model.labels_).value_counts()\n",
    "print('最终每个分群的数目为：\\n',num)\n",
    "#经过观察可以发现有明显的5个类群\n",
    "#1. 无风险客户，他们三个特征都很低\n",
    "#2. 历史惯犯\n",
    "#3. 经济风险较大的客户\n",
    "#4. 收入风险较大的客户\n",
    "#5. 同时面临经济风险和收入风险的客户"
   ]
  },
  {
   "cell_type": "code",
   "execution_count": null,
   "metadata": {},
   "outputs": [],
   "source": []
  }
 ]
}